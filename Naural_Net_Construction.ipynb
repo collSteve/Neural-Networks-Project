{
  "nbformat": 4,
  "nbformat_minor": 0,
  "metadata": {
    "colab": {
      "name": "Naural Net Construction",
      "provenance": [],
      "authorship_tag": "ABX9TyPQMJokKTgiwHZICuJvH5zw",
      "include_colab_link": true
    },
    "kernelspec": {
      "name": "python3",
      "display_name": "Python 3"
    }
  },
  "cells": [
    {
      "cell_type": "markdown",
      "metadata": {
        "id": "view-in-github",
        "colab_type": "text"
      },
      "source": [
        "<a href=\"https://colab.research.google.com/github/collSteve/Neural-Networks-Project/blob/master/Naural_Net_Construction.ipynb\" target=\"_parent\"><img src=\"https://colab.research.google.com/assets/colab-badge.svg\" alt=\"Open In Colab\"/></a>"
      ]
    },
    {
      "cell_type": "markdown",
      "metadata": {
        "id": "1_AnS7XkFacl",
        "colab_type": "text"
      },
      "source": [
        "Attempt to construct a Neural Net Work from Scratch"
      ]
    },
    {
      "cell_type": "code",
      "metadata": {
        "id": "ki8zu66RGW4B",
        "colab_type": "code",
        "colab": {}
      },
      "source": [
        "import random\n",
        "import copy\n",
        "import numpy as np"
      ],
      "execution_count": 0,
      "outputs": []
    },
    {
      "cell_type": "markdown",
      "metadata": {
        "id": "nhbWNYm4H1aD",
        "colab_type": "text"
      },
      "source": [
        "Some activation functions"
      ]
    },
    {
      "cell_type": "code",
      "metadata": {
        "id": "aObBMmQlH0I9",
        "colab_type": "code",
        "colab": {}
      },
      "source": [
        "def sigmoid(z):\n",
        "  return 1/(1+pow(np.e,(-z)))"
      ],
      "execution_count": 0,
      "outputs": []
    },
    {
      "cell_type": "markdown",
      "metadata": {
        "id": "6luvP48FMyU5",
        "colab_type": "text"
      },
      "source": [
        "Som cost Function"
      ]
    },
    {
      "cell_type": "code",
      "metadata": {
        "id": "5JYZdIl1M1Xv",
        "colab_type": "code",
        "colab": {}
      },
      "source": [
        "def euclidean(O, O0):\n",
        "  summation = 0\n",
        "  for i in range(len(O)):\n",
        "    summation += pow(O[i]-O0[i], 2)\n",
        "  return pow(summation, 0.5)\n",
        "\n",
        "def sortedByIndex(v, index, reverse=False):\n",
        "  def sortKey(u):\n",
        "    return u[index]\n",
        "  return sorted(v, key=sortKey, reverse=reverse)"
      ],
      "execution_count": 0,
      "outputs": []
    },
    {
      "cell_type": "markdown",
      "metadata": {
        "id": "OL-CqPXnH5Ge",
        "colab_type": "text"
      },
      "source": [
        "Perceptron\n",
        "\n",
        "All vector, matrix, tensors are in np\n"
      ]
    },
    {
      "cell_type": "code",
      "metadata": {
        "id": "C80gE_RRFV6w",
        "colab_type": "code",
        "colab": {}
      },
      "source": [
        "def predictFun(I, weights, activationFun):\n",
        "   summation = 0 \n",
        "   if len(I) == len(weights):\n",
        "     for i in range(len(I)):\n",
        "       summation += I[i] * weights[i]\n",
        "   else:\n",
        "     raise ValueError(\"length of Inputs and Weights of Perceptron not matching\")\n",
        "   return activationFun(summation)\n",
        "\n",
        "class Perceptron:\n",
        "\n",
        "  def __init__(self, n_weights, weights_specify = \"random\", activationFun = sigmoid):\n",
        "    # Set up initial weights of the perceptron\n",
        "    self.weights = []\n",
        "    if weights_specify == \"random\":\n",
        "      for i in range(n_weights):\n",
        "        self.weights.append(random.uniform(-1, 1)) # weights range from -1 to 1, may change to 0 to 1 \n",
        "      self.weights = np.array(self.weights)\n",
        "    else:\n",
        "      self.weights = np.array(copy.deepcopy(weights_specify))\n",
        "\n",
        "    # set up activation\n",
        "    self.activationFun = activationFun\n",
        "  \n",
        "  def predict(self, I):\n",
        "    return predictFun(I, self.weights, self.activationFun)\n",
        "\n",
        "  def learn(self, I, O, learningStep = 0.01, costFun = euclidean): # train only one to one\n",
        "    # a dull way \n",
        "    tendency = []\n",
        "    cost0 = costFun(self.predict(I), O)\n",
        "    for i in len(range(self.weights)):\n",
        "\n",
        "      def sortFunc(n):\n",
        "        w = copy.deepcopy(self.weights)\n",
        "        w[i] += n \n",
        "        return costFun(predictFun(I, w, self.activationFun), O)\n",
        "\n",
        "      optimal = max([-learningStep, learningStep], key=sortFunc)  \n",
        "      optimal = optimal/abs(optimal) # optimal gives the direction of the axial is greatest desent\n",
        "      tendency.append([optimal, sortFunc(optimal), i])\n",
        "    \n",
        "    tendency = sortedByIndex(tendency, 1, reverse=True)\n",
        "\n",
        "    gradient = []\n",
        "    for i in range(len(tendency)):\n",
        "      gradient.append\n",
        "\n"
      ],
      "execution_count": 0,
      "outputs": []
    },
    {
      "cell_type": "code",
      "metadata": {
        "id": "3sSwFiBOJzeU",
        "colab_type": "code",
        "colab": {}
      },
      "source": [
        "p = Perceptron(3)"
      ],
      "execution_count": 0,
      "outputs": []
    },
    {
      "cell_type": "code",
      "metadata": {
        "id": "TkQtWOZUJ5kC",
        "colab_type": "code",
        "outputId": "385259db-db3e-434f-89cc-3909a62dc4fd",
        "colab": {
          "base_uri": "https://localhost:8080/",
          "height": 35
        }
      },
      "source": [
        "p.predict([1,2,3])"
      ],
      "execution_count": 0,
      "outputs": [
        {
          "output_type": "execute_result",
          "data": {
            "text/plain": [
              "0.8768279616154069"
            ]
          },
          "metadata": {
            "tags": []
          },
          "execution_count": 57
        }
      ]
    },
    {
      "cell_type": "code",
      "metadata": {
        "id": "xB81Gim0J9G-",
        "colab_type": "code",
        "colab": {}
      },
      "source": [
        "def c(n):\n",
        "  return 1/n"
      ],
      "execution_count": 0,
      "outputs": []
    },
    {
      "cell_type": "code",
      "metadata": {
        "id": "AQ3i8v4NTj2o",
        "colab_type": "code",
        "outputId": "198582c7-30f2-48ba-9a1b-1fb8972d901d",
        "colab": {
          "base_uri": "https://localhost:8080/",
          "height": 35
        }
      },
      "source": [
        "sorted([1,2,3,4], key=c)"
      ],
      "execution_count": 0,
      "outputs": [
        {
          "output_type": "execute_result",
          "data": {
            "text/plain": [
              "[4, 3, 2, 1]"
            ]
          },
          "metadata": {
            "tags": []
          },
          "execution_count": 59
        }
      ]
    },
    {
      "cell_type": "code",
      "metadata": {
        "id": "c2gEbx76TqdY",
        "colab_type": "code",
        "outputId": "d3efb3a3-a19d-4046-a73b-95ad6271d3bf",
        "colab": {
          "base_uri": "https://localhost:8080/",
          "height": 35
        }
      },
      "source": [
        "sorted([[1,5],[2,4],[3,3]])"
      ],
      "execution_count": 0,
      "outputs": [
        {
          "output_type": "execute_result",
          "data": {
            "text/plain": [
              "[[1, 5], [2, 4], [3, 3]]"
            ]
          },
          "metadata": {
            "tags": []
          },
          "execution_count": 60
        }
      ]
    },
    {
      "cell_type": "code",
      "metadata": {
        "id": "i7ZHuj1gUSHT",
        "colab_type": "code",
        "colab": {}
      },
      "source": [
        ""
      ],
      "execution_count": 0,
      "outputs": []
    }
  ]
}